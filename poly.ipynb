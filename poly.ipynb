{
  "nbformat": 4,
  "nbformat_minor": 0,
  "metadata": {
    "colab": {
      "name": "ECM - project - BB",
      "provenance": [],
      "collapsed_sections": []
    },
    "kernelspec": {
      "name": "python3",
      "display_name": "Python 3"
    },
    "language_info": {
      "name": "python"
    }
  },
  "cells": [
    {
      "cell_type": "markdown",
      "source": [
        "Using the Pseudocodes presented on slide 11 of the Optimization and curve fitting lecture.\n",
        "\n",
        "\n",
        "*   Complete the given method for Lagrange interpolating polynomial for approximating $sin(x)$ at $x = 5$.\n",
        "\n",
        "*   What is the effect on the approximation accuray if the order n increases?\n",
        "\n",
        "\n",
        "\n",
        "\n"
      ],
      "metadata": {
        "id": "SQG3Zj8J7y4-"
      }
    },
    {
      "cell_type": "markdown",
      "source": [
        "*   What is the effect on the approximation accuracy if the order n increases? (Answer in your Colab notebook by adding a text)\n",
        "\n",
        "Getting better approximated data, \n",
        " if the order of N increases"
      ],
      "metadata": {
        "id": "XDUoA_DR3kQo"
      }
    },
    {
      "cell_type": "code",
      "execution_count": 12,
      "metadata": {
        "id": "cmqTglcJ7orf",
        "colab": {
          "base_uri": "https://localhost:8080/"
        },
        "outputId": "eb8be3bf-935f-4bea-e2bf-a888630fae15"
      },
      "outputs": [
        {
          "output_type": "stream",
          "name": "stdout",
          "text": [
            "The value of sin(x) fitted using Lagrange Ploynomial= 0\n",
            "The true value of sin(x) = -0.9589242746631385\n",
            "Abs. rel. Error= 100.0 %\n"
          ]
        }
      ],
      "source": [
        "import numpy as np\n",
        "\n",
        "\n",
        "def Lagrng(x, X, Y, n):\n",
        "  \n",
        "\n",
        "    sum = 0\n",
        "\n",
        "    for i in range(n): \n",
        "\n",
        "        product = Y[i]\n",
        "\n",
        "        for j in range(n): \n",
        "            if j != i:\n",
        "                product = product * (x - X[j]) / ( X[i] - X[j])\n",
        "                \n",
        "\n",
        "        # Add current term to result\n",
        "    sum += sum\n",
        "\n",
        "    #\n",
        "    result = sum\n",
        "    return result\n",
        "\n",
        "\n",
        "if __name__ == \"__main__\":\n",
        "    # The goal here is to generate two lists: X and Y\n",
        "    f = lambda x: np.sin(x)\n",
        "    # lits of X's in the given data points\n",
        "    X = np.arange(-10, 10, 0.8)\n",
        "    # lits of Y's in the given data points\n",
        "    Y = [f(x) for x in X]\n",
        "\n",
        "    # the polynomial order is limited by the available points\n",
        "    n = 3\n",
        "\n",
        "    if n > len(X) - 1:\n",
        "        print(\"The order n must less or equal to the number of data points\")\n",
        "        exit()\n",
        "\n",
        "    # The value x at which we calculate the interpolated polynomial\n",
        "    x = 5\n",
        "\n",
        "approx_ans = Lagrng(x, X, Y, n)\n",
        "\n",
        "print(\"The value of sin(x) fitted using Lagrange Ploynomial=\", approx_ans)\n",
        "print(\"The true value of sin(x) =\", np.sin(x))\n",
        "print(\"Abs. rel. Error=\", 100 * abs((np.sin(x) - approx_ans) / np.sin(x)), \"%\")"
      ]
    }
  ]
}